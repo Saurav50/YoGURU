{
 "cells": [
  {
   "cell_type": "code",
   "execution_count": 1,
   "id": "24c49653",
   "metadata": {
    "scrolled": true
   },
   "outputs": [
    {
     "name": "stdout",
     "output_type": "stream",
     "text": [
      "Requirement already satisfied: pyttsx3 in c:\\users\\maste\\appdata\\local\\programs\\python\\python310\\lib\\site-packages (2.90)\n",
      "Requirement already satisfied: comtypes in c:\\users\\maste\\appdata\\local\\programs\\python\\python310\\lib\\site-packages (from pyttsx3) (1.1.14)\n",
      "Requirement already satisfied: pywin32 in c:\\users\\maste\\appdata\\local\\programs\\python\\python310\\lib\\site-packages (from pyttsx3) (304)\n",
      "Requirement already satisfied: pypiwin32 in c:\\users\\maste\\appdata\\local\\programs\\python\\python310\\lib\\site-packages (from pyttsx3) (223)\n"
     ]
    }
   ],
   "source": [
    "!pip install pyttsx3"
   ]
  },
  {
   "cell_type": "code",
   "execution_count": 2,
   "id": "f4089bb4",
   "metadata": {},
   "outputs": [],
   "source": [
    "import pyttsx3"
   ]
  },
  {
   "cell_type": "code",
   "execution_count": 3,
   "id": "4f411130",
   "metadata": {},
   "outputs": [
    {
     "name": "stdout",
     "output_type": "stream",
     "text": [
      "Voice: Microsoft David Desktop - English (United States)\n",
      "Voice: Microsoft Zira Desktop - English (United States)\n"
     ]
    }
   ],
   "source": [
    "friend = pyttsx3.init ( )\n",
    "voices = friend.getProperty('voices')\n",
    "for voice in voices:\n",
    "    print(f\"Voice: {voice.name}\")\n"
   ]
  },
  {
   "cell_type": "code",
   "execution_count": 4,
   "id": "b4b322cf",
   "metadata": {},
   "outputs": [],
   "source": [
    "newVoiceRate = 100\n",
    "friend.setProperty('rate',newVoiceRate)"
   ]
  },
  {
   "cell_type": "code",
   "execution_count": 73,
   "id": "26facb6c",
   "metadata": {},
   "outputs": [],
   "source": [
    "friend.setProperty(\"voice\", voices[1].id) # 2 is the 3rd item index\n",
    "friend.say(\"'Hello world' in Hindi: नमस्ते दुनिया\")\n",
    "\n",
    "friend.runAndWait()\n",
    "\n"
   ]
  },
  {
   "cell_type": "code",
   "execution_count": 6,
   "id": "d40cfaea",
   "metadata": {},
   "outputs": [],
   "source": [
    "speech = \"apna haath uppar kare\"\n",
    "friend.say ( speech )\n",
    "friend.runAndWait ( )"
   ]
  },
  {
   "cell_type": "code",
   "execution_count": null,
   "id": "0c0d0029",
   "metadata": {},
   "outputs": [],
   "source": []
  }
 ],
 "metadata": {
  "kernelspec": {
   "display_name": "Python 3 (ipykernel)",
   "language": "python",
   "name": "python3"
  },
  "language_info": {
   "codemirror_mode": {
    "name": "ipython",
    "version": 3
   },
   "file_extension": ".py",
   "mimetype": "text/x-python",
   "name": "python",
   "nbconvert_exporter": "python",
   "pygments_lexer": "ipython3",
   "version": "3.10.7"
  }
 },
 "nbformat": 4,
 "nbformat_minor": 5
}
