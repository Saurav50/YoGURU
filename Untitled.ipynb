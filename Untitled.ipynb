{
 "cells": [
  {
   "cell_type": "code",
   "execution_count": 1,
   "id": "8743559c",
   "metadata": {
    "scrolled": true
   },
   "outputs": [
    {
     "name": "stdout",
     "output_type": "stream",
     "text": [
      "Collecting pyttsx3\n",
      "  Downloading pyttsx3-2.90-py3-none-any.whl (39 kB)\n",
      "Collecting comtypes\n",
      "  Downloading comtypes-1.1.14-py2.py3-none-any.whl (172 kB)\n",
      "     -------------------------------------- 172.8/172.8 kB 2.1 MB/s eta 0:00:00\n",
      "Requirement already satisfied: pywin32 in c:\\users\\maste\\appdata\\local\\programs\\python\\python310\\lib\\site-packages (from pyttsx3) (304)\n",
      "Collecting pypiwin32\n",
      "  Downloading pypiwin32-223-py3-none-any.whl (1.7 kB)\n",
      "Installing collected packages: comtypes, pypiwin32, pyttsx3\n",
      "Successfully installed comtypes-1.1.14 pypiwin32-223 pyttsx3-2.90\n"
     ]
    }
   ],
   "source": [
    "!pip install pyttsx3"
   ]
  },
  {
   "cell_type": "code",
   "execution_count": 4,
   "id": "eb2172fc",
   "metadata": {},
   "outputs": [],
   "source": [
    "import pyttsx3"
   ]
  },
  {
   "cell_type": "code",
   "execution_count": 5,
   "id": "4f747a97",
   "metadata": {},
   "outputs": [],
   "source": [
    "friend = pyttsx3.init ( )\n"
   ]
  },
  {
   "cell_type": "code",
   "execution_count": 7,
   "id": "c530f60d",
   "metadata": {},
   "outputs": [],
   "source": [
    "speech = \"Test Text\"\n",
    "friend.say ( speech )\n",
    "friend.runAndWait ( )"
   ]
  },
  {
   "cell_type": "code",
   "execution_count": null,
   "id": "9c24269e",
   "metadata": {},
   "outputs": [],
   "source": []
  }
 ],
 "metadata": {
  "kernelspec": {
   "display_name": "Python 3 (ipykernel)",
   "language": "python",
   "name": "python3"
  },
  "language_info": {
   "codemirror_mode": {
    "name": "ipython",
    "version": 3
   },
   "file_extension": ".py",
   "mimetype": "text/x-python",
   "name": "python",
   "nbconvert_exporter": "python",
   "pygments_lexer": "ipython3",
   "version": "3.10.7"
  }
 },
 "nbformat": 4,
 "nbformat_minor": 5
}
